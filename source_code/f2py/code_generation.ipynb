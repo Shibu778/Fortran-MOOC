{
 "cells": [
  {
   "cell_type": "code",
   "execution_count": 18,
   "id": "unique-accent",
   "metadata": {},
   "outputs": [],
   "source": [
    "import numpy as np\n",
    "import random"
   ]
  },
  {
   "cell_type": "markdown",
   "id": "olympic-biodiversity",
   "metadata": {},
   "source": [
    "The following Python function will create a string  representation of a Fortran expression for a polynomial."
   ]
  },
  {
   "cell_type": "code",
   "execution_count": 33,
   "id": "mechanical-marketplace",
   "metadata": {},
   "outputs": [],
   "source": [
    "def create_poly_expression(constant, *coeffs):\n",
    "    expr = f'({constant})'\n",
    "    for i, coeff in enumerate(coeffs):\n",
    "        expr += f' &\\n              + ({coeff})*x**{i + 1}'\n",
    "    return expr"
   ]
  },
  {
   "cell_type": "markdown",
   "id": "occupied-subdivision",
   "metadata": {},
   "source": [
    "For example, we can now create a polynomial of degree 2."
   ]
  },
  {
   "cell_type": "code",
   "execution_count": 34,
   "id": "identical-documentary",
   "metadata": {},
   "outputs": [
    {
     "name": "stdout",
     "output_type": "stream",
     "text": [
      "(1.0) &\n",
      "              + (3.0)*x**1 &\n",
      "              + (-5.0)*x**2\n"
     ]
    }
   ],
   "source": [
    "print(create_poly_expression(1.0, 3.0, -5.0))"
   ]
  },
  {
   "cell_type": "markdown",
   "id": "beginning-defeat",
   "metadata": {},
   "source": [
    "The following function will return a Fortran function definition for given coefficients of the polynomial."
   ]
  },
  {
   "cell_type": "code",
   "execution_count": 35,
   "id": "collected-tradition",
   "metadata": {},
   "outputs": [],
   "source": [
    "def create_poly_function(name, constant, *coeffs):\n",
    "    expr = create_poly_expression(constant, *coeffs)\n",
    "    return f'''\n",
    "    function {name}(x) result(y)\n",
    "        implicit none\n",
    "        real, value :: x\n",
    "        real :: y\n",
    "        \n",
    "        y = {expr}\n",
    "    end function {name}\n",
    "    '''"
   ]
  },
  {
   "cell_type": "code",
   "execution_count": 36,
   "id": "elegant-christopher",
   "metadata": {},
   "outputs": [
    {
     "name": "stdout",
     "output_type": "stream",
     "text": [
      "\n",
      "    function func1(x) result(y)\n",
      "        implicit none\n",
      "        real, value :: x\n",
      "        real :: y\n",
      "        \n",
      "        y = (1.2) &\n",
      "              + (3.5)*x**1 &\n",
      "              + (-2.1)*x**2\n",
      "    end function func1\n",
      "    \n"
     ]
    }
   ],
   "source": [
    "print(create_poly_function('func1', 1.2, 3.5, -2.1))"
   ]
  },
  {
   "cell_type": "markdown",
   "id": "frozen-share",
   "metadata": {},
   "source": [
    "The next function will create a random polynomial with a given name."
   ]
  },
  {
   "cell_type": "code",
   "execution_count": 37,
   "id": "national-chase",
   "metadata": {},
   "outputs": [],
   "source": [
    "def create_random_poly_function(name):\n",
    "    degree = random.randint(0, 10)\n",
    "    coeffs = np.random.normal(size=degree + 1)\n",
    "    return create_poly_function(name, coeffs[0], *coeffs[1:])"
   ]
  },
  {
   "cell_type": "code",
   "execution_count": 38,
   "id": "prospective-algebra",
   "metadata": {},
   "outputs": [
    {
     "name": "stdout",
     "output_type": "stream",
     "text": [
      "\n",
      "    function func1(x) result(y)\n",
      "        implicit none\n",
      "        real, value :: x\n",
      "        real :: y\n",
      "        \n",
      "        y = (1.4265728749067677) &\n",
      "              + (-1.2457570237626667)*x**1 &\n",
      "              + (1.3201876548848241)*x**2 &\n",
      "              + (-0.8790831303443152)*x**3 &\n",
      "              + (0.8247735882571433)*x**4 &\n",
      "              + (-0.4385351609008346)*x**5 &\n",
      "              + (0.4112613698619335)*x**6 &\n",
      "              + (-0.6587906293050799)*x**7 &\n",
      "              + (-1.0842532329414618)*x**8 &\n",
      "              + (0.08736515053718635)*x**9\n",
      "    end function func1\n",
      "    \n"
     ]
    }
   ],
   "source": [
    "print(create_random_poly_function('func1'))"
   ]
  },
  {
   "cell_type": "markdown",
   "id": "spanish-glory",
   "metadata": {},
   "source": [
    "Now we create a Fortran source file with 5 random polynomial functions."
   ]
  },
  {
   "cell_type": "code",
   "execution_count": 39,
   "id": "atmospheric-working",
   "metadata": {},
   "outputs": [],
   "source": [
    "with open('functions.f90', 'w') as src_file:\n",
    "    for i in range(5):\n",
    "        print(create_random_poly_function(f'func{i + 1:03d}'), file=src_file)"
   ]
  },
  {
   "cell_type": "markdown",
   "id": "silent-third",
   "metadata": {},
   "source": [
    "Using f2py, this Fortran file can be converted into a Python module."
   ]
  },
  {
   "cell_type": "code",
   "execution_count": 40,
   "id": "unusual-princeton",
   "metadata": {},
   "outputs": [
    {
     "name": "stdout",
     "output_type": "stream",
     "text": [
      "\u001b[39mrunning build\u001b[0m\n",
      "\u001b[39mrunning config_cc\u001b[0m\n",
      "\u001b[39munifing config_cc, config, build_clib, build_ext, build commands --compiler options\u001b[0m\n",
      "\u001b[39mrunning config_fc\u001b[0m\n",
      "\u001b[39munifing config_fc, config, build_clib, build_ext, build commands --fcompiler options\u001b[0m\n",
      "\u001b[39mrunning build_src\u001b[0m\n",
      "\u001b[39mbuild_src\u001b[0m\n",
      "\u001b[39mbuilding extension \"functions\" sources\u001b[0m\n",
      "\u001b[39mf2py options: []\u001b[0m\n",
      "\u001b[39mf2py:> /tmp/tmpdgrbvska/src.linux-x86_64-3.8/functionsmodule.c\u001b[0m\n",
      "\u001b[39mcreating /tmp/tmpdgrbvska/src.linux-x86_64-3.8\u001b[0m\n",
      "Reading fortran codes...\n",
      "\tReading file 'functions.f90' (format:free)\n",
      "Post-processing...\n",
      "\tBlock: functions\n",
      "\t\t\tBlock: func001\n",
      "\t\t\tBlock: func002\n",
      "\t\t\tBlock: func003\n",
      "\t\t\tBlock: func004\n",
      "\t\t\tBlock: func005\n",
      "Post-processing (stage 2)...\n",
      "Building modules...\n",
      "\tBuilding module \"functions\"...\n",
      "\t\tCreating wrapper for Fortran function \"func001\"(\"func001\")...\n",
      "\t\tConstructing wrapper function \"func001\"...\n",
      "\t\t  y = func001(x)\n",
      "\t\tCreating wrapper for Fortran function \"func002\"(\"func002\")...\n",
      "\t\tConstructing wrapper function \"func002\"...\n",
      "\t\t  y = func002(x)\n",
      "\t\tCreating wrapper for Fortran function \"func003\"(\"func003\")...\n",
      "\t\tConstructing wrapper function \"func003\"...\n",
      "\t\t  y = func003(x)\n",
      "\t\tCreating wrapper for Fortran function \"func004\"(\"func004\")...\n",
      "\t\tConstructing wrapper function \"func004\"...\n",
      "\t\t  y = func004(x)\n",
      "\t\tCreating wrapper for Fortran function \"func005\"(\"func005\")...\n",
      "\t\tConstructing wrapper function \"func005\"...\n",
      "\t\t  y = func005(x)\n",
      "\tWrote C/API module \"functions\" to file \"/tmp/tmpdgrbvska/src.linux-x86_64-3.8/functionsmodule.c\"\n",
      "\tFortran 77 wrappers are saved to \"/tmp/tmpdgrbvska/src.linux-x86_64-3.8/functions-f2pywrappers.f\"\n",
      "\u001b[39m  adding '/tmp/tmpdgrbvska/src.linux-x86_64-3.8/fortranobject.c' to sources.\u001b[0m\n",
      "\u001b[39m  adding '/tmp/tmpdgrbvska/src.linux-x86_64-3.8' to include_dirs.\u001b[0m\n",
      "\u001b[39mcopying /home/gjb/miniconda3/envs/fortran_mooc/lib/python3.8/site-packages/numpy/f2py/src/fortranobject.c -> /tmp/tmpdgrbvska/src.linux-x86_64-3.8\u001b[0m\n",
      "\u001b[39mcopying /home/gjb/miniconda3/envs/fortran_mooc/lib/python3.8/site-packages/numpy/f2py/src/fortranobject.h -> /tmp/tmpdgrbvska/src.linux-x86_64-3.8\u001b[0m\n",
      "\u001b[39m  adding '/tmp/tmpdgrbvska/src.linux-x86_64-3.8/functions-f2pywrappers.f' to sources.\u001b[0m\n",
      "\u001b[39mbuild_src: building npy-pkg config files\u001b[0m\n",
      "\u001b[39mrunning build_ext\u001b[0m\n",
      "\u001b[39mcustomize UnixCCompiler\u001b[0m\n",
      "\u001b[39mcustomize UnixCCompiler using build_ext\u001b[0m\n",
      "\u001b[39mget_default_fcompiler: matching types: '['gnu95', 'intel', 'lahey', 'pg', 'absoft', 'nag', 'vast', 'compaq', 'intele', 'intelem', 'gnu', 'g95', 'pathf95', 'nagfor']'\u001b[0m\n",
      "\u001b[39mcustomize Gnu95FCompiler\u001b[0m\n",
      "\u001b[39mFound executable /usr/bin/gfortran\u001b[0m\n",
      "\u001b[39mcustomize Gnu95FCompiler\u001b[0m\n",
      "\u001b[39mcustomize Gnu95FCompiler using build_ext\u001b[0m\n",
      "\u001b[39mbuilding 'functions' extension\u001b[0m\n",
      "\u001b[39mcompiling C sources\u001b[0m\n",
      "\u001b[39mC compiler: gcc -pthread -B /home/gjb/miniconda3/envs/fortran_mooc/compiler_compat -Wl,--sysroot=/ -Wsign-compare -DNDEBUG -g -fwrapv -O3 -Wall -Wstrict-prototypes -fPIC\n",
      "\u001b[0m\n",
      "\u001b[39mcreating /tmp/tmpdgrbvska/tmp\u001b[0m\n",
      "\u001b[39mcreating /tmp/tmpdgrbvska/tmp/tmpdgrbvska\u001b[0m\n",
      "\u001b[39mcreating /tmp/tmpdgrbvska/tmp/tmpdgrbvska/src.linux-x86_64-3.8\u001b[0m\n",
      "\u001b[39mcompile options: '-I/tmp/tmpdgrbvska/src.linux-x86_64-3.8 -I/home/gjb/miniconda3/envs/fortran_mooc/lib/python3.8/site-packages/numpy/core/include -I/home/gjb/miniconda3/envs/fortran_mooc/include/python3.8 -c'\u001b[0m\n",
      "\u001b[39mgcc: /tmp/tmpdgrbvska/src.linux-x86_64-3.8/functionsmodule.c\u001b[0m\n",
      "\u001b[39mgcc: /tmp/tmpdgrbvska/src.linux-x86_64-3.8/fortranobject.c\u001b[0m\n",
      "In file included from \u001b[01m\u001b[K/home/gjb/miniconda3/envs/fortran_mooc/lib/python3.8/site-packages/numpy/core/include/numpy/ndarraytypes.h:1822\u001b[m\u001b[K,\n",
      "                 from \u001b[01m\u001b[K/home/gjb/miniconda3/envs/fortran_mooc/lib/python3.8/site-packages/numpy/core/include/numpy/ndarrayobject.h:12\u001b[m\u001b[K,\n",
      "                 from \u001b[01m\u001b[K/home/gjb/miniconda3/envs/fortran_mooc/lib/python3.8/site-packages/numpy/core/include/numpy/arrayobject.h:4\u001b[m\u001b[K,\n",
      "                 from \u001b[01m\u001b[K/tmp/tmpdgrbvska/src.linux-x86_64-3.8/fortranobject.h:13\u001b[m\u001b[K,\n",
      "                 from \u001b[01m\u001b[K/tmp/tmpdgrbvska/src.linux-x86_64-3.8/functionsmodule.c:15\u001b[m\u001b[K:\n",
      "\u001b[01m\u001b[K/home/gjb/miniconda3/envs/fortran_mooc/lib/python3.8/site-packages/numpy/core/include/numpy/npy_1_7_deprecated_api.h:17:2:\u001b[m\u001b[K \u001b[01;35m\u001b[Kwarning: \u001b[m\u001b[K#warning \"Using deprecated NumPy API, disable it with \" \"#define NPY_NO_DEPRECATED_API NPY_1_7_API_VERSION\" [\u001b[01;35m\u001b[K\u001b]8;;https://gcc.gnu.org/onlinedocs/gcc/Warning-Options.html#index-Wcpp\u0007-Wcpp\u001b]8;;\u0007\u001b[m\u001b[K]\n",
      "   17 | #\u001b[01;35m\u001b[Kwarning\u001b[m\u001b[K \"Using deprecated NumPy API, disable it with \" \\\n",
      "      |  \u001b[01;35m\u001b[K^~~~~~~\u001b[m\u001b[K\n",
      "In file included from \u001b[01m\u001b[K/home/gjb/miniconda3/envs/fortran_mooc/lib/python3.8/site-packages/numpy/core/include/numpy/ndarraytypes.h:1822\u001b[m\u001b[K,\n",
      "                 from \u001b[01m\u001b[K/home/gjb/miniconda3/envs/fortran_mooc/lib/python3.8/site-packages/numpy/core/include/numpy/ndarrayobject.h:12\u001b[m\u001b[K,\n",
      "                 from \u001b[01m\u001b[K/home/gjb/miniconda3/envs/fortran_mooc/lib/python3.8/site-packages/numpy/core/include/numpy/arrayobject.h:4\u001b[m\u001b[K,\n",
      "                 from \u001b[01m\u001b[K/tmp/tmpdgrbvska/src.linux-x86_64-3.8/fortranobject.h:13\u001b[m\u001b[K,\n",
      "                 from \u001b[01m\u001b[K/tmp/tmpdgrbvska/src.linux-x86_64-3.8/fortranobject.c:2\u001b[m\u001b[K:\n",
      "\u001b[01m\u001b[K/home/gjb/miniconda3/envs/fortran_mooc/lib/python3.8/site-packages/numpy/core/include/numpy/npy_1_7_deprecated_api.h:17:2:\u001b[m\u001b[K \u001b[01;35m\u001b[Kwarning: \u001b[m\u001b[K#warning \"Using deprecated NumPy API, disable it with \" \"#define NPY_NO_DEPRECATED_API NPY_1_7_API_VERSION\" [\u001b[01;35m\u001b[K\u001b]8;;https://gcc.gnu.org/onlinedocs/gcc/Warning-Options.html#index-Wcpp\u0007-Wcpp\u001b]8;;\u0007\u001b[m\u001b[K]\n",
      "   17 | #\u001b[01;35m\u001b[Kwarning\u001b[m\u001b[K \"Using deprecated NumPy API, disable it with \" \\\n",
      "      |  \u001b[01;35m\u001b[K^~~~~~~\u001b[m\u001b[K\n",
      "\u001b[39mcompiling Fortran sources\u001b[0m\n",
      "\u001b[39mFortran f77 compiler: /usr/bin/gfortran -Wall -g -ffixed-form -fno-second-underscore -fPIC -O3 -funroll-loops\n",
      "Fortran f90 compiler: /usr/bin/gfortran -Wall -g -fno-second-underscore -fPIC -O3 -funroll-loops\n",
      "Fortran fix compiler: /usr/bin/gfortran -Wall -g -ffixed-form -fno-second-underscore -Wall -g -fno-second-underscore -fPIC -O3 -funroll-loops\u001b[0m\n",
      "\u001b[39mcompile options: '-I/tmp/tmpdgrbvska/src.linux-x86_64-3.8 -I/home/gjb/miniconda3/envs/fortran_mooc/lib/python3.8/site-packages/numpy/core/include -I/home/gjb/miniconda3/envs/fortran_mooc/include/python3.8 -c'\u001b[0m\n",
      "\u001b[39mgfortran:f90: functions.f90\u001b[0m\n",
      "\u001b[01m\u001b[Kfunctions.f90:19:22:\u001b[m\u001b[K\n",
      "\n",
      "   19 |     function func002(x) result(y)\n",
      "      |                      \u001b[01;35m\u001b[K1\u001b[m\u001b[K\n",
      "\u001b[01;35m\u001b[KWarning:\u001b[m\u001b[K Unused dummy argument ‘\u001b[01m\u001b[Kx\u001b[m\u001b[K’ at \u001b[01;35m\u001b[K(1)\u001b[m\u001b[K [\u001b[01;35m\u001b[K\u001b]8;;https://gcc.gnu.org/onlinedocs/gfortran/Error-and-Warning-Options.html#index-Wunused-dummy-argument\u0007-Wunused-dummy-argument\u001b]8;;\u0007\u001b[m\u001b[K]\n",
      "\u001b[39mgfortran:f77: /tmp/tmpdgrbvska/src.linux-x86_64-3.8/functions-f2pywrappers.f\u001b[0m\n",
      "\u001b[39m/usr/bin/gfortran -Wall -g -Wall -g -shared /tmp/tmpdgrbvska/tmp/tmpdgrbvska/src.linux-x86_64-3.8/functionsmodule.o /tmp/tmpdgrbvska/tmp/tmpdgrbvska/src.linux-x86_64-3.8/fortranobject.o /tmp/tmpdgrbvska/functions.o /tmp/tmpdgrbvska/tmp/tmpdgrbvska/src.linux-x86_64-3.8/functions-f2pywrappers.o -L/usr/lib/gcc/x86_64-pc-linux-gnu/10.2.0/../../../../lib -L/usr/lib/gcc/x86_64-pc-linux-gnu/10.2.0/../../../../lib -lgfortran -o ./functions.cpython-38-x86_64-linux-gnu.so\u001b[0m\n",
      "Removing build directory /tmp/tmpdgrbvska\n"
     ]
    }
   ],
   "source": [
    "!f2py -c -m functions functions.f90"
   ]
  },
  {
   "cell_type": "markdown",
   "id": "inner-emission",
   "metadata": {},
   "source": [
    "If everything went well, f2py has created a shared object that contains the functions, and a module that we can import."
   ]
  },
  {
   "cell_type": "code",
   "execution_count": 41,
   "id": "stone-sleeve",
   "metadata": {},
   "outputs": [
    {
     "name": "stdout",
     "output_type": "stream",
     "text": [
      "f2py.ipynb  functions.cpython-38-x86_64-linux-gnu.so  functions.f90\n"
     ]
    }
   ],
   "source": [
    "!ls"
   ]
  },
  {
   "cell_type": "code",
   "execution_count": 42,
   "id": "deadly-intensity",
   "metadata": {},
   "outputs": [],
   "source": [
    "import functions"
   ]
  },
  {
   "cell_type": "markdown",
   "id": "great-proposal",
   "metadata": {},
   "source": [
    "The module contains the functions that were generated."
   ]
  },
  {
   "cell_type": "code",
   "execution_count": 43,
   "id": "meaningful-mortality",
   "metadata": {},
   "outputs": [
    {
     "data": {
      "text/plain": [
       "['__doc__',\n",
       " '__file__',\n",
       " '__loader__',\n",
       " '__name__',\n",
       " '__package__',\n",
       " '__spec__',\n",
       " '__version__',\n",
       " '_functions_error',\n",
       " 'func001',\n",
       " 'func002',\n",
       " 'func003',\n",
       " 'func004',\n",
       " 'func005']"
      ]
     },
     "execution_count": 43,
     "metadata": {},
     "output_type": "execute_result"
    }
   ],
   "source": [
    "dir(functions)"
   ]
  },
  {
   "cell_type": "markdown",
   "id": "amazing-investor",
   "metadata": {},
   "source": [
    "Note that some bare-bones documentation has been generated automatically."
   ]
  },
  {
   "cell_type": "code",
   "execution_count": 44,
   "id": "random-citation",
   "metadata": {},
   "outputs": [
    {
     "data": {
      "text/plain": [
       "\u001b[0;31mCall signature:\u001b[0m \u001b[0mfunctions\u001b[0m\u001b[0;34m.\u001b[0m\u001b[0mfunc001\u001b[0m\u001b[0;34m(\u001b[0m\u001b[0;34m*\u001b[0m\u001b[0margs\u001b[0m\u001b[0;34m,\u001b[0m \u001b[0;34m**\u001b[0m\u001b[0mkwargs\u001b[0m\u001b[0;34m)\u001b[0m\u001b[0;34m\u001b[0m\u001b[0;34m\u001b[0m\u001b[0m\n",
       "\u001b[0;31mType:\u001b[0m           fortran\n",
       "\u001b[0;31mString form:\u001b[0m    <fortran func001>\n",
       "\u001b[0;31mDocstring:\u001b[0m     \n",
       "y = func001(x)\n",
       "\n",
       "Wrapper for ``func001``.\n",
       "\n",
       "Parameters\n",
       "----------\n",
       "x : input float\n",
       "\n",
       "Returns\n",
       "-------\n",
       "y : float\n"
      ]
     },
     "metadata": {},
     "output_type": "display_data"
    }
   ],
   "source": [
    "?functions.func001"
   ]
  },
  {
   "cell_type": "markdown",
   "id": "outer-alcohol",
   "metadata": {},
   "source": [
    "We can collect the function names from the module and store the actual functions in a list."
   ]
  },
  {
   "cell_type": "code",
   "execution_count": 46,
   "id": "frank-gates",
   "metadata": {},
   "outputs": [],
   "source": [
    "funcs = list()\n",
    "for name in dir(functions):\n",
    "    if not name.startswith('_'):\n",
    "        funcs.append(getattr(functions, name))"
   ]
  },
  {
   "cell_type": "code",
   "execution_count": 49,
   "id": "chinese-corruption",
   "metadata": {},
   "outputs": [
    {
     "data": {
      "text/plain": [
       "1.4554624557495117"
      ]
     },
     "execution_count": 49,
     "metadata": {},
     "output_type": "execute_result"
    }
   ],
   "source": [
    "funcs[1](5.3)"
   ]
  },
  {
   "cell_type": "markdown",
   "id": "further-vehicle",
   "metadata": {},
   "source": [
    "Now we can call the functions on some value of $x$."
   ]
  },
  {
   "cell_type": "code",
   "execution_count": 51,
   "id": "nutritional-onion",
   "metadata": {},
   "outputs": [
    {
     "name": "stdout",
     "output_type": "stream",
     "text": [
      "func001(1.2) = -10.370649337768555\n",
      "func002(1.2) = 1.4554624557495117\n",
      "func003(1.2) = -1.170980453491211\n",
      "func004(1.2) = -7.09548282623291\n",
      "func005(1.2) = 5.6847968101501465\n"
     ]
    }
   ],
   "source": [
    "x = 1.2\n",
    "for func in funcs:\n",
    "    print(f'{func.__name__}({x}) = {func(x)}')"
   ]
  }
 ],
 "metadata": {
  "kernelspec": {
   "display_name": "Python 3",
   "language": "python",
   "name": "python3"
  },
  "language_info": {
   "codemirror_mode": {
    "name": "ipython",
    "version": 3
   },
   "file_extension": ".py",
   "mimetype": "text/x-python",
   "name": "python",
   "nbconvert_exporter": "python",
   "pygments_lexer": "ipython3",
   "version": "3.8.5"
  }
 },
 "nbformat": 4,
 "nbformat_minor": 5
}
